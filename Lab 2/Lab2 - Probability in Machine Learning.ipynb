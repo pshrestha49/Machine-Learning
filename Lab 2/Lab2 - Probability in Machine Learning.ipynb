{
 "cells": [
  {
   "cell_type": "markdown",
   "metadata": {},
   "source": [
    "# Lab 2 - Probability in Machine Learning\n",
    "\n",
    "Welcome to the Probability in Machine Learning Lab! In this lab, we will explore how probability theory plays a crucial role in machine learning. We will start with a simple coin flip example to grasp the basics and then move on to build a Bayesian email classifier. Let's dive in!\n",
    "\n",
    "## Setting Up the Environment\n",
    "\n",
    "First, let's import the necessary libraries.\n"
   ]
  },
  {
   "cell_type": "code",
   "execution_count": 2,
   "metadata": {},
   "outputs": [],
   "source": [
    "import pandas as pd\n",
    "import numpy as np"
   ]
  },
  {
   "cell_type": "markdown",
   "metadata": {},
   "source": [
    "## Part 1: Coin Flip Probability Example\n",
    "\n",
    "### Objective:\n",
    "To understand basic probability and Python coding through a coin flip example.\n",
    "\n",
    "### Simulating Coin Flips\n",
    "We will simulate flipping a coin 1000 times.\n"
   ]
  },
  {
   "cell_type": "code",
   "execution_count": 3,
   "metadata": {},
   "outputs": [],
   "source": [
    "# Simulating 1000 coin flips, 0 for 'tails' and 1 for 'heads'\n",
    "coin_flips = np.random.choice(['heads', 'tails'], size=1000)\n",
    "df_coin = pd.DataFrame({'flip_result': coin_flips})"
   ]
  },
  {
   "cell_type": "markdown",
   "metadata": {},
   "source": [
    "### Analyzing Flip Results\n",
    "Now, let's count how many heads and tails we got."
   ]
  },
  {
   "cell_type": "code",
   "execution_count": 4,
   "metadata": {},
   "outputs": [
    {
     "name": "stdout",
     "output_type": "stream",
     "text": [
      "flip_result\n",
      "tails    510\n",
      "heads    490\n",
      "Name: count, dtype: int64\n"
     ]
    }
   ],
   "source": [
    "flip_counts = df_coin['flip_result'].value_counts()\n",
    "print(flip_counts)"
   ]
  },
  {
   "cell_type": "markdown",
   "metadata": {},
   "source": [
    "### Calculating Probabilities\n",
    "Next, we will calculate the probability of getting heads or tails."
   ]
  },
  {
   "cell_type": "code",
   "execution_count": 5,
   "metadata": {},
   "outputs": [
    {
     "name": "stdout",
     "output_type": "stream",
     "text": [
      "Probability of Heads: 0.49\n",
      "Probability of Tails: 0.51\n"
     ]
    }
   ],
   "source": [
    "p_heads = flip_counts['heads'] / len(df_coin)\n",
    "p_tails = flip_counts['tails'] / len(df_coin)\n",
    "print(f\"Probability of Heads: {p_heads}\")\n",
    "print(f\"Probability of Tails: {p_tails}\")"
   ]
  },
  {
   "cell_type": "markdown",
   "metadata": {},
   "source": [
    "## Part 2: Bayesian Email Classifier\n",
    "\n",
    "### Objective:\n",
    "Now, you will build a Bayesian email classifier to differentiate between 'spam' and 'ham' (not spam) emails.\n",
    "\n",
    "### Task 1: Exploring the Dataset\n",
    "First, load and explore the dataset. You can either find and use a dataset or use the following code to simulate a sample dataset."
   ]
  },
  {
   "cell_type": "code",
   "execution_count": 6,
   "metadata": {},
   "outputs": [],
   "source": [
    "# The following code snippet creates a simulated email classification (spam and not spam) dataset with 1000 data points.\n",
    "\n",
    "import pandas as pd\n",
    "import numpy as np\n",
    "\n",
    "# Sample size\n",
    "n_samples = 1000\n",
    "\n",
    "# Simulating data\n",
    "np.random.seed(42)\n",
    "\n",
    "data = {\n",
    "    'email_length': np.random.normal(100, 20, n_samples).astype(int),\n",
    "    'contains_free': np.random.choice([0, 1], size=n_samples, p=[0.7, 0.3]),\n",
    "    'contains_winner': np.random.choice([0, 1], size=n_samples, p=[0.5, 0.5]),\n",
    "    'time_of_day': np.random.choice(['morning', 'afternoon', 'evening', 'night'], n_samples),\n",
    "    'label': np.random.choice(['spam', 'ham'], n_samples, p=[0.4, 0.6])\n",
    "}\n",
    "\n",
    "df = pd.DataFrame(data)\n",
    "\n",
    "#Replace labels with ones with some relationship\n",
    "for index, row in df.iterrows():\n",
    "    prob = min(1, .7 *row[\"contains_free\"] + .7*row[\"contains_winner\"]+.1)\n",
    "    df.at[index, 'label'] = np.random.choice(['spam', 'ham'], p=[prob, 1-prob])\n",
    "\n",
    "# Saving the dataset\n",
    "df.to_csv('simulated_email_dataset.csv', index=False)"
   ]
  },
  {
   "cell_type": "code",
   "execution_count": 7,
   "metadata": {},
   "outputs": [
    {
     "data": {
      "text/html": [
       "<div>\n",
       "<style scoped>\n",
       "    .dataframe tbody tr th:only-of-type {\n",
       "        vertical-align: middle;\n",
       "    }\n",
       "\n",
       "    .dataframe tbody tr th {\n",
       "        vertical-align: top;\n",
       "    }\n",
       "\n",
       "    .dataframe thead th {\n",
       "        text-align: right;\n",
       "    }\n",
       "</style>\n",
       "<table border=\"1\" class=\"dataframe\">\n",
       "  <thead>\n",
       "    <tr style=\"text-align: right;\">\n",
       "      <th></th>\n",
       "      <th>email_length</th>\n",
       "      <th>contains_free</th>\n",
       "      <th>contains_winner</th>\n",
       "      <th>time_of_day</th>\n",
       "      <th>label</th>\n",
       "    </tr>\n",
       "  </thead>\n",
       "  <tbody>\n",
       "    <tr>\n",
       "      <th>0</th>\n",
       "      <td>109</td>\n",
       "      <td>0</td>\n",
       "      <td>0</td>\n",
       "      <td>morning</td>\n",
       "      <td>ham</td>\n",
       "    </tr>\n",
       "    <tr>\n",
       "      <th>1</th>\n",
       "      <td>97</td>\n",
       "      <td>0</td>\n",
       "      <td>0</td>\n",
       "      <td>morning</td>\n",
       "      <td>ham</td>\n",
       "    </tr>\n",
       "    <tr>\n",
       "      <th>2</th>\n",
       "      <td>112</td>\n",
       "      <td>0</td>\n",
       "      <td>0</td>\n",
       "      <td>morning</td>\n",
       "      <td>ham</td>\n",
       "    </tr>\n",
       "    <tr>\n",
       "      <th>3</th>\n",
       "      <td>130</td>\n",
       "      <td>1</td>\n",
       "      <td>0</td>\n",
       "      <td>afternoon</td>\n",
       "      <td>spam</td>\n",
       "    </tr>\n",
       "    <tr>\n",
       "      <th>4</th>\n",
       "      <td>95</td>\n",
       "      <td>0</td>\n",
       "      <td>1</td>\n",
       "      <td>afternoon</td>\n",
       "      <td>spam</td>\n",
       "    </tr>\n",
       "  </tbody>\n",
       "</table>\n",
       "</div>"
      ],
      "text/plain": [
       "   email_length  contains_free  contains_winner time_of_day label\n",
       "0           109              0                0     morning   ham\n",
       "1            97              0                0     morning   ham\n",
       "2           112              0                0     morning   ham\n",
       "3           130              1                0   afternoon  spam\n",
       "4            95              0                1   afternoon  spam"
      ]
     },
     "execution_count": 7,
     "metadata": {},
     "output_type": "execute_result"
    }
   ],
   "source": [
    "# Load the dataset (Replace 'path_to_dataset' with the actual file path). You can uncomment the codes below. Notice what `df_emails.head()` is representing.\n",
    "df_emails = pd.read_csv('simulated_email_dataset.csv')\n",
    "df_emails.head()"
   ]
  },
  {
   "cell_type": "markdown",
   "metadata": {},
   "source": [
    "### Task 2: Data Preprocessing\n",
    "You need to preprocess the data for analysis. This involves normalizing and encoding the features."
   ]
  },
  {
   "cell_type": "code",
   "execution_count": 8,
   "metadata": {},
   "outputs": [
    {
     "data": {
      "text/html": [
       "<div>\n",
       "<style scoped>\n",
       "    .dataframe tbody tr th:only-of-type {\n",
       "        vertical-align: middle;\n",
       "    }\n",
       "\n",
       "    .dataframe tbody tr th {\n",
       "        vertical-align: top;\n",
       "    }\n",
       "\n",
       "    .dataframe thead th {\n",
       "        text-align: right;\n",
       "    }\n",
       "</style>\n",
       "<table border=\"1\" class=\"dataframe\">\n",
       "  <thead>\n",
       "    <tr style=\"text-align: right;\">\n",
       "      <th></th>\n",
       "      <th>email_length</th>\n",
       "      <th>contains_free</th>\n",
       "      <th>contains_winner</th>\n",
       "      <th>time_of_day</th>\n",
       "      <th>label</th>\n",
       "    </tr>\n",
       "  </thead>\n",
       "  <tbody>\n",
       "    <tr>\n",
       "      <th>0</th>\n",
       "      <td>0.521127</td>\n",
       "      <td>0</td>\n",
       "      <td>0</td>\n",
       "      <td>morning</td>\n",
       "      <td>ham</td>\n",
       "    </tr>\n",
       "    <tr>\n",
       "      <th>1</th>\n",
       "      <td>0.436620</td>\n",
       "      <td>0</td>\n",
       "      <td>0</td>\n",
       "      <td>morning</td>\n",
       "      <td>ham</td>\n",
       "    </tr>\n",
       "    <tr>\n",
       "      <th>2</th>\n",
       "      <td>0.542254</td>\n",
       "      <td>0</td>\n",
       "      <td>0</td>\n",
       "      <td>morning</td>\n",
       "      <td>ham</td>\n",
       "    </tr>\n",
       "    <tr>\n",
       "      <th>3</th>\n",
       "      <td>0.669014</td>\n",
       "      <td>1</td>\n",
       "      <td>0</td>\n",
       "      <td>afternoon</td>\n",
       "      <td>spam</td>\n",
       "    </tr>\n",
       "    <tr>\n",
       "      <th>4</th>\n",
       "      <td>0.422535</td>\n",
       "      <td>0</td>\n",
       "      <td>1</td>\n",
       "      <td>afternoon</td>\n",
       "      <td>spam</td>\n",
       "    </tr>\n",
       "  </tbody>\n",
       "</table>\n",
       "</div>"
      ],
      "text/plain": [
       "   email_length  contains_free  contains_winner time_of_day label\n",
       "0      0.521127              0                0     morning   ham\n",
       "1      0.436620              0                0     morning   ham\n",
       "2      0.542254              0                0     morning   ham\n",
       "3      0.669014              1                0   afternoon  spam\n",
       "4      0.422535              0                1   afternoon  spam"
      ]
     },
     "execution_count": 8,
     "metadata": {},
     "output_type": "execute_result"
    }
   ],
   "source": [
    "# Your code for Data Preprocessing goes here\n",
    "email_length_min = df_emails['email_length'].min()\n",
    "email_length_max = df_emails['email_length'].max()\n",
    "df_emails['email_length'] = (df_emails['email_length'] - email_length_min) / (email_length_max - email_length_min)\n",
    "df_emails.head()"
   ]
  },
  {
   "cell_type": "markdown",
   "metadata": {},
   "source": [
    "### Task 3: Probability Calculation\n",
    "Calculate the probability of spam and ham emails in the dataset."
   ]
  },
  {
   "cell_type": "code",
   "execution_count": 9,
   "metadata": {},
   "outputs": [
    {
     "name": "stdout",
     "output_type": "stream",
     "text": [
      "probabilty ham emails 0.41\n",
      "probabilty spam emails 0.59\n"
     ]
    }
   ],
   "source": [
    "# Your code for calculating the probability of spam and ham emails in the dataset goes here\n",
    "\n",
    "total_emails = len(df_emails['label'])\n",
    "total_ham_emails = df_emails['label'].value_counts()['ham']\n",
    "total_spam_emails = df_emails['label'].value_counts()['spam']\n",
    "prob_ham = total_ham_emails/total_emails\n",
    "prob_spam = total_spam_emails/total_emails\n",
    "print(f'probabilty ham emails {prob_ham}')\n",
    "print(f'probabilty spam emails {prob_spam}')\n"
   ]
  },
  {
   "cell_type": "markdown",
   "metadata": {},
   "source": [
    "### Task 4: Implementing Bayes' Theorem\n",
    "Implement Bayes' Theorem to classify emails as spam or ham."
   ]
  },
  {
   "cell_type": "code",
   "execution_count": 22,
   "metadata": {},
   "outputs": [],
   "source": [
    "# Write a function using Bayes' Theorem for classification\n",
    "\n",
    "def bayes_classify(email_features, df:pd.DataFrame, feature_columns=None):\n",
    "    \"\"\"\n",
    "    Classify an email as spam or ham using Bayes' Theorem.\n",
    "\n",
    "    Parameters:\n",
    "    - email_features (dict): A dictionary of feature values for the email to classify.\n",
    "                             Example: {'email_length': 0.5, 'contains_free': 1, 'contains_winner': 0}\n",
    "    - df (pd.DataFrame): The dataset containing labeled training data.\n",
    "    - 'label' (str): The name of the column containing class labels ('spam', 'ham').\n",
    "    - feature_columns (list): A list of feature column names to use for classification. Defaults to all columns except 'label'.\n",
    "\n",
    "    Returns:\n",
    "    - str: The predicted class ('spam' or 'ham').\n",
    "    \"\"\"\n",
    "    if feature_columns is None:\n",
    "        feature_columns = [col for col in df.columns if col != 'label']\n",
    "\n",
    "    # Calculate prior probabilities\n",
    "    total_emails = len(df['label'])\n",
    "    total_ham_emails = df['label'].value_counts()['ham']\n",
    "    total_spam_emails = df['label'].value_counts()['spam']\n",
    "    prob_ham = total_ham_emails/total_emails\n",
    "    prob_spam = total_spam_emails/total_emails\n",
    "    priors = {'ham': prob_ham, 'spam':prob_spam}\n",
    "\n",
    "    # Calculate likelihoods\n",
    "    classes = ['spam', 'ham']\n",
    "    likelihoods = {}\n",
    "    for i in classes:\n",
    "        class_subset = df[df['label'] == i]\n",
    "        likelihoods[i] = {}\n",
    "        for feature in feature_columns:\n",
    "            if class_subset[feature].dtype == float or class_subset[feature].dtype == int:  \n",
    "                likelihoods[i][feature] = class_subset[feature].mean()\n",
    "            else:  \n",
    "                likelihoods[i][feature] = class_subset[feature].value_counts(normalize=True).to_dict()\n",
    "\n",
    "    # Calculate posterior probabilities\n",
    "    posteriors = {}\n",
    "    for class_i in classes:\n",
    "        posterior = priors[class_i]  # Start with the prior probability\n",
    "        for feature, value in email_features.items():\n",
    "            if feature not in likelihoods[class_i]:\n",
    "                continue\n",
    "            if isinstance(likelihoods[class_i][feature], dict):  # Categorical feature\n",
    "                posterior *= likelihoods[class_i][feature].get(value, 1e-6)  # Use small value for unseen categories\n",
    "            else:  # Numerical feature\n",
    "                posterior *= likelihoods[class_i][feature]  # Multiply by feature mean (for simplicity)\n",
    "        posteriors[class_i] = posterior\n",
    "\n",
    "    # Return the class with the highest posterior probability\n",
    "    return max(posteriors, key=posteriors.get)"
   ]
  },
  {
   "cell_type": "markdown",
   "metadata": {},
   "source": [
    "### Task 5: Model Testing\n",
    "Test the model on a new dataset and evaluate its performance. You can use a subset of the dataset that you created or create a new one."
   ]
  },
  {
   "cell_type": "code",
   "execution_count": 23,
   "metadata": {},
   "outputs": [
    {
     "data": {
      "text/plain": [
       "'spam'"
      ]
     },
     "execution_count": 23,
     "metadata": {},
     "output_type": "execute_result"
    }
   ],
   "source": [
    "# Your code goes here\n",
    "test_df = pd.DataFrame()\n",
    "predictions = []\n",
    "# for _, row in df_emails.iterrows():\n",
    "row_dict = row.to_dict()\n",
    "predicted_class = bayes_classify(row_dict, df_emails)\n",
    "predicted_class\n",
    "# predictions.append(predicted_class)\n",
    "\n",
    "# Add predictions to the test dataframe\n",
    "# test_df['predicted_label'] = predictions\n",
    "# test_df"
   ]
  },
  {
   "cell_type": "markdown",
   "metadata": {},
   "source": [
    "### Task 6: Discussion\n",
    "1. Discuss how Bayesian updating improves the accuracy of the classifier.\n",
    "2. What are the limitations of the model built in this lab?\n"
   ]
  },
  {
   "cell_type": "markdown",
   "metadata": {},
   "source": [
    "### Answers\n",
    "1. Bayesian updating allows us to continuously improve our model as new data becomes available. By updating the prior probabilities with new evidence, we can refine our predictions and make them more accurate. This iterative process helps in incorporating new information and adjusting the model to better reflect the underlying patterns in the data. In the context of our email classifier, Bayesian updating helps in dynamically adjusting the probabilities of an email being spam or ham based on the features observed in the new emails.\n",
    "\n",
    "2.  - Simplistic Assumptions: The model assumes that the features are independent of each other, which might not be true in real-world scenarios. This is known as the \"naive\" assumption in Naive Bayes classifiers.\n",
    "    - Feature Engineering: The model's performance heavily depends on the quality and relevance of the features used. If important features are missing or irrelevant features are included, the model's accuracy can be affected.\n",
    "    - Static Model: The model does not adapt to changes in the data distribution over time unless explicitly updated with new data."
   ]
  },
  {
   "cell_type": "markdown",
   "metadata": {},
   "source": [
    "## Submission\n",
    "Submit a link to your completed Jupyter Notebook file hosted on your private GitHub repository through the submission link in Blackboard."
   ]
  }
 ],
 "metadata": {
  "kernelspec": {
   "display_name": "myenv",
   "language": "python",
   "name": "python3"
  },
  "language_info": {
   "codemirror_mode": {
    "name": "ipython",
    "version": 3
   },
   "file_extension": ".py",
   "mimetype": "text/x-python",
   "name": "python",
   "nbconvert_exporter": "python",
   "pygments_lexer": "ipython3",
   "version": "3.12.8"
  }
 },
 "nbformat": 4,
 "nbformat_minor": 4
}
